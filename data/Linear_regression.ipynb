{
 "cells": [
  {
   "cell_type": "code",
   "execution_count": 4,
   "metadata": {},
   "outputs": [
    {
     "name": "stdout",
     "output_type": "stream",
     "text": [
      "/workspaces/datathinking.org-codespace/data\n"
     ]
    }
   ],
   "source": [
    "cd /workspaces/datathinking.org-codespace/data/"
   ]
  },
  {
   "cell_type": "code",
   "execution_count": 6,
   "metadata": {},
   "outputs": [
    {
     "name": "stdout",
     "output_type": "stream",
     "text": [
      "EAB_Parasitoid.csv\n"
     ]
    }
   ],
   "source": [
    "ls EAB_Parasitoid.csv"
   ]
  },
  {
   "cell_type": "code",
   "execution_count": 7,
   "metadata": {},
   "outputs": [],
   "source": [
    "import pandas as pd\n",
    "from sklearn.linear_model import LinearRegression\n",
    "import statsmodels.api as sm\n",
    "data = pd.read_csv('EAB_Parasitoid.csv')\n",
    "\n",
    "import seaborn as sns\n",
    "import matplotlib.pyplot as plt\n",
    "from scipy.stats import pearsonr\n",
    "# read in the data from the csv file\n",
    "data = pd.read_csv('EAB_Parasitoid.csv')\n",
    "\n",
    "# select the relevant columns for the first plot\n",
    "data1 = data[['Diameter at base 0 m (cm)', 'EAB Count (L3-Adult)']].dropna()\n",
    "\n",
    "# select the relevant columns for the second plot\n",
    "data2 = data[['Diameter at 1 m above ground (cm)', 'EAB Count (L3-Adult)']].dropna()\n",
    "\n",
    "# select the relevant columns for the third plot\n",
    "data3 = data[['Diameter at 2 m above ground (cm)', 'EAB Count (L3-Adult)']].dropna()\n",
    "\n",
    "# create three subplots side by side\n",
    "fig, axs = plt.subplots(ncols=3, figsize=(15, 5))\n",
    "\n",
    "# create the first plot\n",
    "sns.regplot(x='Diameter at base 0 m (cm)', y='EAB Count (L3-Adult)', data=data1, ax=axs[0])\n",
    "corr, _ = pearsonr(data1['Diameter at base 0 m (cm)'], data1['EAB Count (L3-Adult)'])\n",
    "axs[0].set_title('(corr={:.2f})'.format(corr))\n",
    "axs[0].text(0.05, 0.95, 'p={:.3f}'.format(_), transform=axs[0].transAxes)\n",
    "\n",
    "# create the second plot\n",
    "sns.regplot(x='Diameter at 1 m above ground (cm)', y='EAB Count (L3-Adult)', data=data2, ax=axs[1])\n",
    "corr, _ = pearsonr(data2['Diameter at 1 m above ground (cm)'], data2['EAB Count (L3-Adult)'])\n",
    "axs[1].set_title('(corr={:.2f})'.format(corr))\n",
    "axs[1].text(0.05, 0.95, 'p={:.3f}'.format(_), transform=axs[1].transAxes)\n",
    "\n",
    "# create the third plot\n",
    "sns.regplot(x='Diameter at 2 m above ground (cm)', y='EAB Count (L3-Adult)', data=data3, ax=axs[2])\n",
    "corr, _ = pearsonr(data3['Diameter at 2 m above ground (cm)'], data3['EAB Count (L3-Adult)'])\n",
    "axs[2].set_title('(corr={:.2f})'.format(corr))\n",
    "axs[2].text(0.05, 0.95, 'p={:.3f}'.format(_), transform=axs[2].transAxes)\n",
    "\n",
    "# adjust the spacing between the subplots\n",
    "plt.tight_layout()\n",
    "\n",
    "fig.suptitle('Relationship between emerald ash borer (EAB) larvae count and diameter at different heights in Michigan', fontsize=16, y=1.05)\n",
    "\n",
    "# show the plot\n",
    "plt.show()\n"
   ]
  }
 ],
 "metadata": {
  "kernelspec": {
   "display_name": "Python 3",
   "language": "python",
   "name": "python3"
  },
  "language_info": {
   "codemirror_mode": {
    "name": "ipython",
    "version": 3
   },
   "file_extension": ".py",
   "mimetype": "text/x-python",
   "name": "python",
   "nbconvert_exporter": "python",
   "pygments_lexer": "ipython3",
   "version": "3.10.4"
  },
  "orig_nbformat": 4
 },
 "nbformat": 4,
 "nbformat_minor": 2
}
